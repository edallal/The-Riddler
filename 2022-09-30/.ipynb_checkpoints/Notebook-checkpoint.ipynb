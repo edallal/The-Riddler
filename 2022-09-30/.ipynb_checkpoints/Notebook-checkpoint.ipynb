{
 "cells": [
  {
   "cell_type": "code",
   "execution_count": 1,
   "id": "e9b479d4",
   "metadata": {},
   "outputs": [],
   "source": [
    "import matplotlib.pyplot as plt\n",
    "import matplotlib.patches as pat\n",
    "import pandas as pd\n",
    "import numpy as np"
   ]
  },
  {
   "cell_type": "code",
   "execution_count": 2,
   "id": "1871cf70",
   "metadata": {},
   "outputs": [
    {
     "name": "stdout",
     "output_type": "stream",
     "text": [
      "1 0.7853981633974483 1.6405744763063355 0.2566253588909574 0.6283182314876246\n",
      "2 0.8815625800942557 1.6405744763063355 0.31415994041954454 0.6566125894118716\n",
      "3 0.8815625800942557 1.6018204890186385 0.3075223181156401 0.6283184886032909\n",
      "4 0.8923963194086982 1.6018204890186385 0.3141590475801631 0.6314017179985504\n",
      "5 0.8923963194086982 1.5975735793178023 0.31342773112058353 0.6283184896445924\n",
      "6 0.8935887497867812 1.5975735793178023 0.31416005886434406 0.6286566436667947\n",
      "7 0.8935887497867812 1.5971076925746066 0.3140797841403014 0.6283186261212208\n",
      "8 0.8937175802045136 1.5971076925746066 0.31415892679289825 0.6283551461377994\n",
      "9 0.8937175802045136 1.5970567596187588 0.3141501502075526 0.6283181950204485\n",
      "10 0.8937325604856454 1.5970567596187588 0.31415935311678866 0.6283224413539641\n",
      "11 0.8937325604856454 1.5970507675063064 0.3141583205689284 0.6283180941965667\n"
     ]
    }
   ],
   "source": [
    "# Solve Problem\n",
    "import math\n",
    "\n",
    "def ComputeArea(angle, other):\n",
    "    return angle/2 - math.sin(angle)*math.sin(angle + other)/(math.sin(angle) + math.sin(other))*1/2\n",
    "\n",
    "def SolveForAngle(other, target):\n",
    "    minTheta = 0\n",
    "    if ComputeArea(minTheta, other) > target:\n",
    "        raise Exception('No solution: 0 is too big')\n",
    "    maxTheta = math.pi\n",
    "    if ComputeArea(maxTheta, other) < target:\n",
    "        raise Exception('No solution: pi is too small')\n",
    "    while True:\n",
    "        curTheta = (minTheta + maxTheta)/2\n",
    "        A = ComputeArea(curTheta, other)\n",
    "        if math.fabs(A - target) < 0.000001:\n",
    "            return curTheta\n",
    "        if A < target:\n",
    "            minTheta = curTheta\n",
    "        else:\n",
    "            maxTheta = curTheta\n",
    "\n",
    "target1 = math.pi/10\n",
    "target2 = math.pi/5\n",
    "phi1 = math.pi/4\n",
    "phi2 = math.pi/4\n",
    "iters = 0\n",
    "while True:\n",
    "    iters = iters + 1\n",
    "    if iters % 2 == 0:\n",
    "        try:\n",
    "            phi1 = SolveForAngle(phi2, target1)\n",
    "        except:\n",
    "            print(phi2, ComputeArea(0, phi2), ComputeArea(math.pi, phi2))\n",
    "            break\n",
    "    else:\n",
    "        try:\n",
    "            phi2 = SolveForAngle(phi1, target2)\n",
    "        except:\n",
    "            print(phi1, ComputeArea(0, phi1), ComputeArea(math.pi, phi1))\n",
    "            break\n",
    "    A1 = ComputeArea(phi1, phi2)\n",
    "    A2 = ComputeArea(phi2, phi1)\n",
    "    print(iters, phi1, phi2, A1, A2)\n",
    "    if math.fabs(A1 - target1) < 0.000001 and math.fabs(A2 - target2) < 0.000001:\n",
    "        break"
   ]
  },
  {
   "cell_type": "code",
   "execution_count": 3,
   "id": "7b8533fb",
   "metadata": {},
   "outputs": [
    {
     "data": {
      "image/png": "[encoded data removed]",
      "text/plain": [
       "<Figure size 432x288 with 1 Axes>"
      ]
     },
     "metadata": {
      "needs_background": "light"
     },
     "output_type": "display_data"
    }
   ],
   "source": [
    "import matplotlib.pyplot as plt\n",
    "import matplotlib.patches as pat\n",
    "\n",
    "plt.axes(xlim = (-1, 1), ylim = (-1, 1))\n",
    "circ = plt.Circle((0, 0), 1, fill=False)\n",
    "plt.gca().add_patch(circ)\n",
    "line1 = plt.Line2D((0, 0), (-1, 1), c='black')\n",
    "plt.gca().add_line(line1)\n",
    "p1 = pat.FancyArrowPatch((0.04, -1), (0.04, 0), arrowstyle='<->', mutation_scale=20)\n",
    "plt.gca().add_patch(p1)\n",
    "plt.gca().annotate('r', (0.05, -0.5))\n",
    "line2 = plt.Line2D((0, -math.sin(phi1)), (0, math.cos(phi1)), c='black', ls='--')\n",
    "plt.gca().add_line(line2)\n",
    "line3 = plt.Line2D((0, math.sin(phi2)), (0, math.cos(phi2)), c='black', ls='--')\n",
    "plt.gca().add_line(line3)\n",
    "line4 = plt.Line2D((-math.sin(phi1), math.sin(phi2)), (math.cos(phi1), math.cos(phi2)), c='black')\n",
    "plt.gca().add_line(line4)\n",
    "arc1 = pat.Arc((0,0), 0.2, 0.2, 0, 90, 90 + 180*phi1/math.pi)\n",
    "plt.gca().add_patch(arc1)\n",
    "plt.gca().annotate(u\"\\u03b1\", (-0.15*math.sin(phi1/2+0.2), 0.15*math.cos(phi1/2+0.2)))\n",
    "arc2 = pat.Arc((0,0), 0.2, 0.2, 0, 90 - 180*phi2/math.pi, 90)\n",
    "plt.gca().add_patch(arc2)\n",
    "plt.gca().annotate(u\"\\u03b2\", (0.13*math.sin(phi2/2), 0.13*math.cos(phi2/2)))\n",
    "plt.gca().annotate('O', (-0.1, -0.09))\n",
    "plt.gca().annotate('P', (0.03, (math.cos(phi1) + math.cos(phi2))/2+0.05))\n",
    "plt.gca().annotate('A', (-math.sin(phi1)-0.08, math.cos(phi1)+0.03))\n",
    "plt.gca().annotate('B', (math.sin(phi2)+0.02, math.cos(phi2)))\n",
    "plt.gca().annotate('Q', (-0.03, 1.03))\n",
    "plt.grid(False)\n",
    "plt.axis('off')\n",
    "plt.axis('scaled')\n",
    "plt.savefig('Diagram.png')\n"
   ]
  },
  {
   "cell_type": "code",
   "execution_count": null,
   "id": "17a2ec8e-8c4a-4f47-89ae-7c43f47b6dc1",
   "metadata": {},
   "outputs": [],
   "source": []
  }
 ],
 "metadata": {
  "kernelspec": {
   "display_name": "Python 3",
   "language": "python",
   "name": "python3"
  },
  "language_info": {
   "codemirror_mode": {
    "name": "ipython",
    "version": 3
   },
   "file_extension": ".py",
   "mimetype": "text/x-python",
   "name": "python",
   "nbconvert_exporter": "python",
   "pygments_lexer": "ipython3",
   "version": "3.9.1"
  }
 },
 "nbformat": 4,
 "nbformat_minor": 5
}
